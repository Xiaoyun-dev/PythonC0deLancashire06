{
 "cells": [
  {
   "cell_type": "markdown",
   "id": "d1e5a1ee",
   "metadata": {},
   "source": [
    "<h1>Tackling an open problem</h1>\n",
    "\n",
    "For this homework the idea is to hone our skills on exploring and plotting a dataset. You can either work with the Pokemon dataset that was given or download your own. If you opt to download your own I recommend you use one of the datasets available on kaggle,\n",
    "\n",
    "https://www.kaggle.com/datasets\n",
    "\n",
    "As they tend to be found in a clean format and are generally free to use.\n",
    "\n",
    "Largely, the main objective is learning how to search the internet for new implementations you want to use on your code helping you develop your self-confidence.\n",
    "\n",
    "There's no right or wrong, pick a dataset you enjoy and try to have some fun.\n",
    "If you need, use the notebook from the previous session as a guideline.\n"
   ]
  },
  {
   "cell_type": "code",
   "execution_count": 1,
   "id": "383c1464",
   "metadata": {},
   "outputs": [],
   "source": [
    "import numpy as np\n",
    "import pandas as pd\n",
    "import matplotlib.pyplot as plt\n",
    "import seaborn as sns"
   ]
  },
  {
   "cell_type": "code",
   "execution_count": 33,
   "id": "c58d5651",
   "metadata": {},
   "outputs": [],
   "source": [
    "#global print for decimal places\n",
    "pd.set_option('display.float_format', lambda x: '%.3f' % x)"
   ]
  },
  {
   "cell_type": "code",
   "execution_count": 2,
   "id": "b7120031",
   "metadata": {},
   "outputs": [
    {
     "data": {
      "text/plain": [
       "'/Users/xiaoyunchen/Desktop/Python-Module'"
      ]
     },
     "execution_count": 2,
     "metadata": {},
     "output_type": "execute_result"
    }
   ],
   "source": [
    "pwd"
   ]
  },
  {
   "cell_type": "code",
   "execution_count": 31,
   "id": "1c2071c2",
   "metadata": {},
   "outputs": [],
   "source": [
    "goodreads_df = pd.read_csv('book_metadata.csv', sep=',')"
   ]
  },
  {
   "cell_type": "code",
   "execution_count": 35,
   "id": "a625a7d7",
   "metadata": {},
   "outputs": [
    {
     "name": "stdout",
     "output_type": "stream",
     "text": [
      "<class 'pandas.core.frame.DataFrame'>\n",
      "RangeIndex: 4621 entries, 0 to 4620\n",
      "Data columns (total 6 columns):\n",
      " #   Column      Non-Null Count  Dtype  \n",
      "---  ------      --------------  -----  \n",
      " 0   Unnamed: 0  4621 non-null   int64  \n",
      " 1   Title       4621 non-null   object \n",
      " 2   Author      4621 non-null   object \n",
      " 3   Score       4621 non-null   float64\n",
      " 4   Ratings     4621 non-null   int64  \n",
      " 5   Published   4621 non-null   int64  \n",
      "dtypes: float64(1), int64(3), object(2)\n",
      "memory usage: 216.7+ KB\n"
     ]
    }
   ],
   "source": [
    "goodreads_df.info()"
   ]
  },
  {
   "cell_type": "code",
   "execution_count": 32,
   "id": "2777a65f",
   "metadata": {},
   "outputs": [
    {
     "data": {
      "text/html": [
       "<div>\n",
       "<style scoped>\n",
       "    .dataframe tbody tr th:only-of-type {\n",
       "        vertical-align: middle;\n",
       "    }\n",
       "\n",
       "    .dataframe tbody tr th {\n",
       "        vertical-align: top;\n",
       "    }\n",
       "\n",
       "    .dataframe thead th {\n",
       "        text-align: right;\n",
       "    }\n",
       "</style>\n",
       "<table border=\"1\" class=\"dataframe\">\n",
       "  <thead>\n",
       "    <tr style=\"text-align: right;\">\n",
       "      <th></th>\n",
       "      <th>Unnamed: 0</th>\n",
       "      <th>Title</th>\n",
       "      <th>Author</th>\n",
       "      <th>Score</th>\n",
       "      <th>Ratings</th>\n",
       "      <th>Published</th>\n",
       "    </tr>\n",
       "  </thead>\n",
       "  <tbody>\n",
       "    <tr>\n",
       "      <th>0</th>\n",
       "      <td>0</td>\n",
       "      <td>The Rabbit Hutch</td>\n",
       "      <td>Tess Gunty</td>\n",
       "      <td>3.58</td>\n",
       "      <td>16471</td>\n",
       "      <td>2022</td>\n",
       "    </tr>\n",
       "    <tr>\n",
       "      <th>1</th>\n",
       "      <td>1</td>\n",
       "      <td>Paris: The Memoir</td>\n",
       "      <td>Paris Hilton</td>\n",
       "      <td>4.24</td>\n",
       "      <td>18905</td>\n",
       "      <td>2023</td>\n",
       "    </tr>\n",
       "    <tr>\n",
       "      <th>2</th>\n",
       "      <td>2</td>\n",
       "      <td>Fearless (Ben Koenig #1)</td>\n",
       "      <td>M.W. Craven</td>\n",
       "      <td>4.24</td>\n",
       "      <td>638</td>\n",
       "      <td>2023</td>\n",
       "    </tr>\n",
       "    <tr>\n",
       "      <th>3</th>\n",
       "      <td>3</td>\n",
       "      <td>Forever Home</td>\n",
       "      <td>Graham Norton</td>\n",
       "      <td>3.94</td>\n",
       "      <td>7877</td>\n",
       "      <td>2022</td>\n",
       "    </tr>\n",
       "    <tr>\n",
       "      <th>4</th>\n",
       "      <td>4</td>\n",
       "      <td>Double-Decker Dreams</td>\n",
       "      <td>Lindsay MacMillan</td>\n",
       "      <td>3.05</td>\n",
       "      <td>367</td>\n",
       "      <td>2023</td>\n",
       "    </tr>\n",
       "  </tbody>\n",
       "</table>\n",
       "</div>"
      ],
      "text/plain": [
       "   Unnamed: 0                     Title             Author  Score  Ratings  \\\n",
       "0           0          The Rabbit Hutch         Tess Gunty   3.58    16471   \n",
       "1           1         Paris: The Memoir       Paris Hilton   4.24    18905   \n",
       "2           2  Fearless (Ben Koenig #1)        M.W. Craven   4.24      638   \n",
       "3           3              Forever Home      Graham Norton   3.94     7877   \n",
       "4           4      Double-Decker Dreams  Lindsay MacMillan   3.05      367   \n",
       "\n",
       "   Published  \n",
       "0       2022  \n",
       "1       2023  \n",
       "2       2023  \n",
       "3       2022  \n",
       "4       2023  "
      ]
     },
     "execution_count": 32,
     "metadata": {},
     "output_type": "execute_result"
    }
   ],
   "source": [
    "goodreads_df.head()"
   ]
  },
  {
   "cell_type": "code",
   "execution_count": 9,
   "id": "eb015011",
   "metadata": {},
   "outputs": [
    {
     "data": {
      "text/html": [
       "<div>\n",
       "<style scoped>\n",
       "    .dataframe tbody tr th:only-of-type {\n",
       "        vertical-align: middle;\n",
       "    }\n",
       "\n",
       "    .dataframe tbody tr th {\n",
       "        vertical-align: top;\n",
       "    }\n",
       "\n",
       "    .dataframe thead th {\n",
       "        text-align: right;\n",
       "    }\n",
       "</style>\n",
       "<table border=\"1\" class=\"dataframe\">\n",
       "  <thead>\n",
       "    <tr style=\"text-align: right;\">\n",
       "      <th></th>\n",
       "      <th>Unnamed: 0</th>\n",
       "      <th>Title</th>\n",
       "      <th>Author</th>\n",
       "      <th>Score</th>\n",
       "      <th>Ratings</th>\n",
       "      <th>Published</th>\n",
       "    </tr>\n",
       "  </thead>\n",
       "  <tbody>\n",
       "    <tr>\n",
       "      <th>4616</th>\n",
       "      <td>4616</td>\n",
       "      <td>Junker Seven</td>\n",
       "      <td>Olive J. Kelley</td>\n",
       "      <td>4.59</td>\n",
       "      <td>49</td>\n",
       "      <td>2023</td>\n",
       "    </tr>\n",
       "    <tr>\n",
       "      <th>4617</th>\n",
       "      <td>4617</td>\n",
       "      <td>Dylan Dog n. 442 bis: L&amp;#39;isola dai due soli</td>\n",
       "      <td>Davide La Rosa</td>\n",
       "      <td>3.30</td>\n",
       "      <td>20</td>\n",
       "      <td>2023</td>\n",
       "    </tr>\n",
       "    <tr>\n",
       "      <th>4618</th>\n",
       "      <td>4618</td>\n",
       "      <td>No One Here Gets Out Alive</td>\n",
       "      <td>Jerry Hopkins</td>\n",
       "      <td>3.93</td>\n",
       "      <td>43446</td>\n",
       "      <td>1980</td>\n",
       "    </tr>\n",
       "    <tr>\n",
       "      <th>4619</th>\n",
       "      <td>4619</td>\n",
       "      <td>The Grace Year</td>\n",
       "      <td>Kim Liggett</td>\n",
       "      <td>4.15</td>\n",
       "      <td>100349</td>\n",
       "      <td>2019</td>\n",
       "    </tr>\n",
       "    <tr>\n",
       "      <th>4620</th>\n",
       "      <td>4620</td>\n",
       "      <td>The Watchmaker&amp;#39;s Daughter: The True Story ...</td>\n",
       "      <td>Larry Loftis</td>\n",
       "      <td>4.28</td>\n",
       "      <td>1390</td>\n",
       "      <td>2023</td>\n",
       "    </tr>\n",
       "  </tbody>\n",
       "</table>\n",
       "</div>"
      ],
      "text/plain": [
       "      Unnamed: 0                                              Title  \\\n",
       "4616        4616                                       Junker Seven   \n",
       "4617        4617     Dylan Dog n. 442 bis: L&#39;isola dai due soli   \n",
       "4618        4618                         No One Here Gets Out Alive   \n",
       "4619        4619                                     The Grace Year   \n",
       "4620        4620  The Watchmaker&#39;s Daughter: The True Story ...   \n",
       "\n",
       "               Author  Score  Ratings  Published  \n",
       "4616  Olive J. Kelley   4.59       49       2023  \n",
       "4617   Davide La Rosa   3.30       20       2023  \n",
       "4618    Jerry Hopkins   3.93    43446       1980  \n",
       "4619      Kim Liggett   4.15   100349       2019  \n",
       "4620     Larry Loftis   4.28     1390       2023  "
      ]
     },
     "execution_count": 9,
     "metadata": {},
     "output_type": "execute_result"
    }
   ],
   "source": [
    "goodreads_df.tail()"
   ]
  },
  {
   "cell_type": "code",
   "execution_count": 17,
   "id": "694a623d",
   "metadata": {},
   "outputs": [
    {
     "data": {
      "text/plain": [
       "Index(['Unnamed: 0', 'Title', 'Author', 'Score', 'Ratings', 'Published'], dtype='object')"
      ]
     },
     "execution_count": 17,
     "metadata": {},
     "output_type": "execute_result"
    }
   ],
   "source": [
    "goodreads_df.keys()\n",
    "#same as: goodreads_df.columns"
   ]
  },
  {
   "cell_type": "code",
   "execution_count": 37,
   "id": "db199b25",
   "metadata": {},
   "outputs": [
    {
     "data": {
      "text/plain": [
       "Unnamed: 0    0\n",
       "Title         0\n",
       "Author        0\n",
       "Score         0\n",
       "Ratings       0\n",
       "Published     0\n",
       "dtype: int64"
      ]
     },
     "execution_count": 37,
     "metadata": {},
     "output_type": "execute_result"
    }
   ],
   "source": [
    "#check for null value\n",
    "goodreads_df.isnull().sum()"
   ]
  },
  {
   "cell_type": "code",
   "execution_count": 38,
   "id": "56dc3706",
   "metadata": {},
   "outputs": [
    {
     "data": {
      "text/html": [
       "<div>\n",
       "<style scoped>\n",
       "    .dataframe tbody tr th:only-of-type {\n",
       "        vertical-align: middle;\n",
       "    }\n",
       "\n",
       "    .dataframe tbody tr th {\n",
       "        vertical-align: top;\n",
       "    }\n",
       "\n",
       "    .dataframe thead th {\n",
       "        text-align: right;\n",
       "    }\n",
       "</style>\n",
       "<table border=\"1\" class=\"dataframe\">\n",
       "  <thead>\n",
       "    <tr style=\"text-align: right;\">\n",
       "      <th></th>\n",
       "      <th>Unnamed: 0</th>\n",
       "      <th>Title</th>\n",
       "      <th>Author</th>\n",
       "      <th>Score</th>\n",
       "      <th>Ratings</th>\n",
       "      <th>Published</th>\n",
       "    </tr>\n",
       "  </thead>\n",
       "  <tbody>\n",
       "    <tr>\n",
       "      <th>count</th>\n",
       "      <td>4621.000</td>\n",
       "      <td>4621</td>\n",
       "      <td>4621</td>\n",
       "      <td>4621.000</td>\n",
       "      <td>4621.000</td>\n",
       "      <td>4621.000</td>\n",
       "    </tr>\n",
       "    <tr>\n",
       "      <th>unique</th>\n",
       "      <td>NaN</td>\n",
       "      <td>4621</td>\n",
       "      <td>3240</td>\n",
       "      <td>NaN</td>\n",
       "      <td>NaN</td>\n",
       "      <td>NaN</td>\n",
       "    </tr>\n",
       "    <tr>\n",
       "      <th>top</th>\n",
       "      <td>NaN</td>\n",
       "      <td>The Rabbit Hutch</td>\n",
       "      <td>Stephen King</td>\n",
       "      <td>NaN</td>\n",
       "      <td>NaN</td>\n",
       "      <td>NaN</td>\n",
       "    </tr>\n",
       "    <tr>\n",
       "      <th>freq</th>\n",
       "      <td>NaN</td>\n",
       "      <td>1</td>\n",
       "      <td>25</td>\n",
       "      <td>NaN</td>\n",
       "      <td>NaN</td>\n",
       "      <td>NaN</td>\n",
       "    </tr>\n",
       "    <tr>\n",
       "      <th>mean</th>\n",
       "      <td>2310.000</td>\n",
       "      <td>NaN</td>\n",
       "      <td>NaN</td>\n",
       "      <td>4.096</td>\n",
       "      <td>135836.194</td>\n",
       "      <td>2000.327</td>\n",
       "    </tr>\n",
       "    <tr>\n",
       "      <th>std</th>\n",
       "      <td>1334.112</td>\n",
       "      <td>NaN</td>\n",
       "      <td>NaN</td>\n",
       "      <td>0.308</td>\n",
       "      <td>433372.009</td>\n",
       "      <td>155.057</td>\n",
       "    </tr>\n",
       "    <tr>\n",
       "      <th>min</th>\n",
       "      <td>0.000</td>\n",
       "      <td>NaN</td>\n",
       "      <td>NaN</td>\n",
       "      <td>2.430</td>\n",
       "      <td>1.000</td>\n",
       "      <td>-700.000</td>\n",
       "    </tr>\n",
       "    <tr>\n",
       "      <th>25%</th>\n",
       "      <td>1155.000</td>\n",
       "      <td>NaN</td>\n",
       "      <td>NaN</td>\n",
       "      <td>3.910</td>\n",
       "      <td>1225.000</td>\n",
       "      <td>2015.000</td>\n",
       "    </tr>\n",
       "    <tr>\n",
       "      <th>50%</th>\n",
       "      <td>2310.000</td>\n",
       "      <td>NaN</td>\n",
       "      <td>NaN</td>\n",
       "      <td>4.120</td>\n",
       "      <td>9670.000</td>\n",
       "      <td>2021.000</td>\n",
       "    </tr>\n",
       "    <tr>\n",
       "      <th>75%</th>\n",
       "      <td>3465.000</td>\n",
       "      <td>NaN</td>\n",
       "      <td>NaN</td>\n",
       "      <td>4.300</td>\n",
       "      <td>75203.000</td>\n",
       "      <td>2023.000</td>\n",
       "    </tr>\n",
       "    <tr>\n",
       "      <th>max</th>\n",
       "      <td>4620.000</td>\n",
       "      <td>NaN</td>\n",
       "      <td>NaN</td>\n",
       "      <td>5.000</td>\n",
       "      <td>9444576.000</td>\n",
       "      <td>2023.000</td>\n",
       "    </tr>\n",
       "  </tbody>\n",
       "</table>\n",
       "</div>"
      ],
      "text/plain": [
       "        Unnamed: 0             Title        Author    Score     Ratings  \\\n",
       "count     4621.000              4621          4621 4621.000    4621.000   \n",
       "unique         NaN              4621          3240      NaN         NaN   \n",
       "top            NaN  The Rabbit Hutch  Stephen King      NaN         NaN   \n",
       "freq           NaN                 1            25      NaN         NaN   \n",
       "mean      2310.000               NaN           NaN    4.096  135836.194   \n",
       "std       1334.112               NaN           NaN    0.308  433372.009   \n",
       "min          0.000               NaN           NaN    2.430       1.000   \n",
       "25%       1155.000               NaN           NaN    3.910    1225.000   \n",
       "50%       2310.000               NaN           NaN    4.120    9670.000   \n",
       "75%       3465.000               NaN           NaN    4.300   75203.000   \n",
       "max       4620.000               NaN           NaN    5.000 9444576.000   \n",
       "\n",
       "        Published  \n",
       "count    4621.000  \n",
       "unique        NaN  \n",
       "top           NaN  \n",
       "freq          NaN  \n",
       "mean     2000.327  \n",
       "std       155.057  \n",
       "min      -700.000  \n",
       "25%      2015.000  \n",
       "50%      2021.000  \n",
       "75%      2023.000  \n",
       "max      2023.000  "
      ]
     },
     "execution_count": 38,
     "metadata": {},
     "output_type": "execute_result"
    }
   ],
   "source": [
    "#get descriptive statistics\n",
    "goodreads_df.describe(include='all')"
   ]
  },
  {
   "cell_type": "code",
   "execution_count": 40,
   "id": "3b5da603",
   "metadata": {},
   "outputs": [
    {
     "data": {
      "image/png": "[encoded data removed]",
      "text/plain": [
       "<Figure size 640x480 with 1 Axes>"
      ]
     },
     "metadata": {},
     "output_type": "display_data"
    }
   ],
   "source": [
    "sns.histplot(data=goodreads_df, x='Score')\n",
    "plt.title(\"Distributon of Book scores\")\n",
    "plt.show()"
   ]
  },
  {
   "cell_type": "code",
   "execution_count": 42,
   "id": "da5811a6",
   "metadata": {},
   "outputs": [
    {
     "data": {
      "text/plain": [
       "2023    1490\n",
       "2022     583\n",
       "2021     401\n",
       "2020     331\n",
       "2019     286\n",
       "        ... \n",
       "1692       1\n",
       "1792       1\n",
       "1860       1\n",
       "1868       1\n",
       "1940       1\n",
       "Name: Published, Length: 193, dtype: int64"
      ]
     },
     "execution_count": 42,
     "metadata": {},
     "output_type": "execute_result"
    }
   ],
   "source": [
    "goodreads_df['Published'].value_counts()"
   ]
  },
  {
   "cell_type": "code",
   "execution_count": 43,
   "id": "2a989ef2",
   "metadata": {},
   "outputs": [
    {
     "data": {
      "text/plain": [
       "2023    1490\n",
       "2022     583\n",
       "2021     401\n",
       "2020     331\n",
       "2019     286\n",
       "2018     226\n",
       "2016      54\n",
       "2014      53\n",
       "2015      50\n",
       "2006      49\n",
       "Name: Published, dtype: int64"
      ]
     },
     "execution_count": 43,
     "metadata": {},
     "output_type": "execute_result"
    }
   ],
   "source": [
    "goodreads_df['Published'].value_counts()[:10]"
   ]
  },
  {
   "cell_type": "code",
   "execution_count": 45,
   "id": "c632e40a",
   "metadata": {},
   "outputs": [
    {
     "name": "stdout",
     "output_type": "stream",
     "text": [
      "2805 books are published in 2020 and beyond\n",
      "1816 books are published before 2020\n"
     ]
    }
   ],
   "source": [
    "new_books = goodreads_df[goodreads_df['Published'] >= 2020]\n",
    "old_books = goodreads_df[goodreads_df.Published.isin(new_books.Published) == False]\n",
    "print(f\"{len(new_books)} books are published in 2020 and beyond\")\n",
    "print(f\"{len(old_books)} books are published before 2020\")"
   ]
  },
  {
   "cell_type": "markdown",
   "id": "169dea40",
   "metadata": {},
   "source": [
    "Which are the top 10 most popular books?"
   ]
  },
  {
   "cell_type": "code",
   "execution_count": 54,
   "id": "10ee458f",
   "metadata": {},
   "outputs": [
    {
     "data": {
      "text/plain": [
       "62    10\n",
       "23     9\n",
       "9      9\n",
       "12     8\n",
       "38     7\n",
       "7      7\n",
       "36     7\n",
       "8      7\n",
       "94     7\n",
       "24     6\n",
       "Name: Ratings, dtype: int64"
      ]
     },
     "execution_count": 54,
     "metadata": {},
     "output_type": "execute_result"
    }
   ],
   "source": [
    "goodreads_df['Ratings'].value_counts()[:10]"
   ]
  },
  {
   "cell_type": "code",
   "execution_count": 56,
   "id": "d09b81ad",
   "metadata": {},
   "outputs": [
    {
     "data": {
      "text/plain": [
       "4.090    78\n",
       "4.160    76\n",
       "4.000    74\n",
       "4.140    71\n",
       "4.210    69\n",
       "         ..\n",
       "2.630     1\n",
       "2.470     1\n",
       "2.750     1\n",
       "2.690     1\n",
       "2.710     1\n",
       "Name: Score, Length: 192, dtype: int64"
      ]
     },
     "execution_count": 56,
     "metadata": {},
     "output_type": "execute_result"
    }
   ],
   "source": [
    "goodreads_df['Score'].value_counts()"
   ]
  },
  {
   "cell_type": "code",
   "execution_count": 60,
   "id": "c6dce3c3",
   "metadata": {},
   "outputs": [],
   "source": [
    "top10 = goodreads_df.sort_values('Ratings', ascending=False)[:10]"
   ]
  },
  {
   "cell_type": "code",
   "execution_count": 61,
   "id": "4a85ea5e",
   "metadata": {},
   "outputs": [
    {
     "data": {
      "text/html": [
       "<div>\n",
       "<style scoped>\n",
       "    .dataframe tbody tr th:only-of-type {\n",
       "        vertical-align: middle;\n",
       "    }\n",
       "\n",
       "    .dataframe tbody tr th {\n",
       "        vertical-align: top;\n",
       "    }\n",
       "\n",
       "    .dataframe thead th {\n",
       "        text-align: right;\n",
       "    }\n",
       "</style>\n",
       "<table border=\"1\" class=\"dataframe\">\n",
       "  <thead>\n",
       "    <tr style=\"text-align: right;\">\n",
       "      <th></th>\n",
       "      <th>Unnamed: 0</th>\n",
       "      <th>Title</th>\n",
       "      <th>Author</th>\n",
       "      <th>Score</th>\n",
       "      <th>Ratings</th>\n",
       "      <th>Published</th>\n",
       "    </tr>\n",
       "  </thead>\n",
       "  <tbody>\n",
       "    <tr>\n",
       "      <th>1396</th>\n",
       "      <td>1396</td>\n",
       "      <td>Harry Potter and the Prisoner of Azkaban (Harr...</td>\n",
       "      <td>J.K. Rowling</td>\n",
       "      <td>4.580</td>\n",
       "      <td>3891556</td>\n",
       "      <td>1999</td>\n",
       "    </tr>\n",
       "    <tr>\n",
       "      <th>3371</th>\n",
       "      <td>3371</td>\n",
       "      <td>Harry Potter and the Philosopher’s Stone (Harr...</td>\n",
       "      <td>J.K. Rowling</td>\n",
       "      <td>4.470</td>\n",
       "      <td>9444576</td>\n",
       "      <td>1997</td>\n",
       "    </tr>\n",
       "    <tr>\n",
       "      <th>207</th>\n",
       "      <td>207</td>\n",
       "      <td>The Hunger Games (The Hunger Games, #1)</td>\n",
       "      <td>Suzanne Collins</td>\n",
       "      <td>4.330</td>\n",
       "      <td>8110032</td>\n",
       "      <td>2008</td>\n",
       "    </tr>\n",
       "    <tr>\n",
       "      <th>3400</th>\n",
       "      <td>3400</td>\n",
       "      <td>Pride and Prejudice</td>\n",
       "      <td>Jane Austen</td>\n",
       "      <td>4.280</td>\n",
       "      <td>4018248</td>\n",
       "      <td>1813</td>\n",
       "    </tr>\n",
       "    <tr>\n",
       "      <th>1652</th>\n",
       "      <td>1652</td>\n",
       "      <td>To Kill a Mockingbird</td>\n",
       "      <td>Harper Lee</td>\n",
       "      <td>4.270</td>\n",
       "      <td>5784208</td>\n",
       "      <td>1960</td>\n",
       "    </tr>\n",
       "    <tr>\n",
       "      <th>4105</th>\n",
       "      <td>4105</td>\n",
       "      <td>1984</td>\n",
       "      <td>George Orwell</td>\n",
       "      <td>4.190</td>\n",
       "      <td>4291378</td>\n",
       "      <td>1949</td>\n",
       "    </tr>\n",
       "    <tr>\n",
       "      <th>2480</th>\n",
       "      <td>2480</td>\n",
       "      <td>The Fault in Our Stars</td>\n",
       "      <td>John Green</td>\n",
       "      <td>4.150</td>\n",
       "      <td>4853123</td>\n",
       "      <td>2012</td>\n",
       "    </tr>\n",
       "    <tr>\n",
       "      <th>3142</th>\n",
       "      <td>3142</td>\n",
       "      <td>Divergent (Divergent, #1)</td>\n",
       "      <td>Veronica Roth</td>\n",
       "      <td>4.150</td>\n",
       "      <td>3767029</td>\n",
       "      <td>2011</td>\n",
       "    </tr>\n",
       "    <tr>\n",
       "      <th>1480</th>\n",
       "      <td>1480</td>\n",
       "      <td>The Great Gatsby</td>\n",
       "      <td>F. Scott Fitzgerald</td>\n",
       "      <td>3.930</td>\n",
       "      <td>4926249</td>\n",
       "      <td>1925</td>\n",
       "    </tr>\n",
       "    <tr>\n",
       "      <th>3347</th>\n",
       "      <td>3347</td>\n",
       "      <td>Twilight (The Twilight Saga, #1)</td>\n",
       "      <td>Stephenie Meyer</td>\n",
       "      <td>3.640</td>\n",
       "      <td>6246259</td>\n",
       "      <td>2005</td>\n",
       "    </tr>\n",
       "  </tbody>\n",
       "</table>\n",
       "</div>"
      ],
      "text/plain": [
       "      Unnamed: 0                                              Title  \\\n",
       "1396        1396  Harry Potter and the Prisoner of Azkaban (Harr...   \n",
       "3371        3371  Harry Potter and the Philosopher’s Stone (Harr...   \n",
       "207          207            The Hunger Games (The Hunger Games, #1)   \n",
       "3400        3400                                Pride and Prejudice   \n",
       "1652        1652                              To Kill a Mockingbird   \n",
       "4105        4105                                               1984   \n",
       "2480        2480                             The Fault in Our Stars   \n",
       "3142        3142                          Divergent (Divergent, #1)   \n",
       "1480        1480                                   The Great Gatsby   \n",
       "3347        3347                   Twilight (The Twilight Saga, #1)   \n",
       "\n",
       "                   Author  Score  Ratings  Published  \n",
       "1396         J.K. Rowling  4.580  3891556       1999  \n",
       "3371         J.K. Rowling  4.470  9444576       1997  \n",
       "207       Suzanne Collins  4.330  8110032       2008  \n",
       "3400          Jane Austen  4.280  4018248       1813  \n",
       "1652           Harper Lee  4.270  5784208       1960  \n",
       "4105        George Orwell  4.190  4291378       1949  \n",
       "2480           John Green  4.150  4853123       2012  \n",
       "3142        Veronica Roth  4.150  3767029       2011  \n",
       "1480  F. Scott Fitzgerald  3.930  4926249       1925  \n",
       "3347      Stephenie Meyer  3.640  6246259       2005  "
      ]
     },
     "execution_count": 61,
     "metadata": {},
     "output_type": "execute_result"
    }
   ],
   "source": [
    "top10.sort_values('Score', ascending=False)"
   ]
  },
  {
   "cell_type": "code",
   "execution_count": 62,
   "id": "ffad555c",
   "metadata": {},
   "outputs": [
    {
     "data": {
      "image/png": "[encoded data removed]",
      "text/plain": [
       "<Figure size 640x480 with 1 Axes>"
      ]
     },
     "metadata": {},
     "output_type": "display_data"
    }
   ],
   "source": [
    "sns.barplot(data=top10, x='Ratings', y='Title', palette='deep')\n",
    "plt.title(\"Top 10 Popular books\", fontsize=16)\n",
    "plt.show()"
   ]
  },
  {
   "cell_type": "code",
   "execution_count": 64,
   "id": "84e6341c",
   "metadata": {},
   "outputs": [],
   "source": [
    "#rating and score ratio\n",
    "top10['Ratio'] = top10['Ratings'] / top10['Score']"
   ]
  },
  {
   "cell_type": "code",
   "execution_count": 65,
   "id": "b5174300",
   "metadata": {},
   "outputs": [
    {
     "data": {
      "text/html": [
       "<div>\n",
       "<style scoped>\n",
       "    .dataframe tbody tr th:only-of-type {\n",
       "        vertical-align: middle;\n",
       "    }\n",
       "\n",
       "    .dataframe tbody tr th {\n",
       "        vertical-align: top;\n",
       "    }\n",
       "\n",
       "    .dataframe thead th {\n",
       "        text-align: right;\n",
       "    }\n",
       "</style>\n",
       "<table border=\"1\" class=\"dataframe\">\n",
       "  <thead>\n",
       "    <tr style=\"text-align: right;\">\n",
       "      <th></th>\n",
       "      <th>Unnamed: 0</th>\n",
       "      <th>Title</th>\n",
       "      <th>Author</th>\n",
       "      <th>Score</th>\n",
       "      <th>Ratings</th>\n",
       "      <th>Published</th>\n",
       "      <th>Ratio</th>\n",
       "    </tr>\n",
       "  </thead>\n",
       "  <tbody>\n",
       "    <tr>\n",
       "      <th>3371</th>\n",
       "      <td>3371</td>\n",
       "      <td>Harry Potter and the Philosopher’s Stone (Harr...</td>\n",
       "      <td>J.K. Rowling</td>\n",
       "      <td>4.470</td>\n",
       "      <td>9444576</td>\n",
       "      <td>1997</td>\n",
       "      <td>2112880.537</td>\n",
       "    </tr>\n",
       "    <tr>\n",
       "      <th>207</th>\n",
       "      <td>207</td>\n",
       "      <td>The Hunger Games (The Hunger Games, #1)</td>\n",
       "      <td>Suzanne Collins</td>\n",
       "      <td>4.330</td>\n",
       "      <td>8110032</td>\n",
       "      <td>2008</td>\n",
       "      <td>1872986.605</td>\n",
       "    </tr>\n",
       "    <tr>\n",
       "      <th>3347</th>\n",
       "      <td>3347</td>\n",
       "      <td>Twilight (The Twilight Saga, #1)</td>\n",
       "      <td>Stephenie Meyer</td>\n",
       "      <td>3.640</td>\n",
       "      <td>6246259</td>\n",
       "      <td>2005</td>\n",
       "      <td>1716005.220</td>\n",
       "    </tr>\n",
       "    <tr>\n",
       "      <th>1652</th>\n",
       "      <td>1652</td>\n",
       "      <td>To Kill a Mockingbird</td>\n",
       "      <td>Harper Lee</td>\n",
       "      <td>4.270</td>\n",
       "      <td>5784208</td>\n",
       "      <td>1960</td>\n",
       "      <td>1354615.457</td>\n",
       "    </tr>\n",
       "    <tr>\n",
       "      <th>1480</th>\n",
       "      <td>1480</td>\n",
       "      <td>The Great Gatsby</td>\n",
       "      <td>F. Scott Fitzgerald</td>\n",
       "      <td>3.930</td>\n",
       "      <td>4926249</td>\n",
       "      <td>1925</td>\n",
       "      <td>1253498.473</td>\n",
       "    </tr>\n",
       "    <tr>\n",
       "      <th>2480</th>\n",
       "      <td>2480</td>\n",
       "      <td>The Fault in Our Stars</td>\n",
       "      <td>John Green</td>\n",
       "      <td>4.150</td>\n",
       "      <td>4853123</td>\n",
       "      <td>2012</td>\n",
       "      <td>1169427.229</td>\n",
       "    </tr>\n",
       "    <tr>\n",
       "      <th>4105</th>\n",
       "      <td>4105</td>\n",
       "      <td>1984</td>\n",
       "      <td>George Orwell</td>\n",
       "      <td>4.190</td>\n",
       "      <td>4291378</td>\n",
       "      <td>1949</td>\n",
       "      <td>1024195.227</td>\n",
       "    </tr>\n",
       "    <tr>\n",
       "      <th>3400</th>\n",
       "      <td>3400</td>\n",
       "      <td>Pride and Prejudice</td>\n",
       "      <td>Jane Austen</td>\n",
       "      <td>4.280</td>\n",
       "      <td>4018248</td>\n",
       "      <td>1813</td>\n",
       "      <td>938842.991</td>\n",
       "    </tr>\n",
       "    <tr>\n",
       "      <th>3142</th>\n",
       "      <td>3142</td>\n",
       "      <td>Divergent (Divergent, #1)</td>\n",
       "      <td>Veronica Roth</td>\n",
       "      <td>4.150</td>\n",
       "      <td>3767029</td>\n",
       "      <td>2011</td>\n",
       "      <td>907717.831</td>\n",
       "    </tr>\n",
       "    <tr>\n",
       "      <th>1396</th>\n",
       "      <td>1396</td>\n",
       "      <td>Harry Potter and the Prisoner of Azkaban (Harr...</td>\n",
       "      <td>J.K. Rowling</td>\n",
       "      <td>4.580</td>\n",
       "      <td>3891556</td>\n",
       "      <td>1999</td>\n",
       "      <td>849684.716</td>\n",
       "    </tr>\n",
       "  </tbody>\n",
       "</table>\n",
       "</div>"
      ],
      "text/plain": [
       "      Unnamed: 0                                              Title  \\\n",
       "3371        3371  Harry Potter and the Philosopher’s Stone (Harr...   \n",
       "207          207            The Hunger Games (The Hunger Games, #1)   \n",
       "3347        3347                   Twilight (The Twilight Saga, #1)   \n",
       "1652        1652                              To Kill a Mockingbird   \n",
       "1480        1480                                   The Great Gatsby   \n",
       "2480        2480                             The Fault in Our Stars   \n",
       "4105        4105                                               1984   \n",
       "3400        3400                                Pride and Prejudice   \n",
       "3142        3142                          Divergent (Divergent, #1)   \n",
       "1396        1396  Harry Potter and the Prisoner of Azkaban (Harr...   \n",
       "\n",
       "                   Author  Score  Ratings  Published       Ratio  \n",
       "3371         J.K. Rowling  4.470  9444576       1997 2112880.537  \n",
       "207       Suzanne Collins  4.330  8110032       2008 1872986.605  \n",
       "3347      Stephenie Meyer  3.640  6246259       2005 1716005.220  \n",
       "1652           Harper Lee  4.270  5784208       1960 1354615.457  \n",
       "1480  F. Scott Fitzgerald  3.930  4926249       1925 1253498.473  \n",
       "2480           John Green  4.150  4853123       2012 1169427.229  \n",
       "4105        George Orwell  4.190  4291378       1949 1024195.227  \n",
       "3400          Jane Austen  4.280  4018248       1813  938842.991  \n",
       "3142        Veronica Roth  4.150  3767029       2011  907717.831  \n",
       "1396         J.K. Rowling  4.580  3891556       1999  849684.716  "
      ]
     },
     "execution_count": 65,
     "metadata": {},
     "output_type": "execute_result"
    }
   ],
   "source": [
    "top10.sort_values('Ratio', ascending=False)"
   ]
  },
  {
   "cell_type": "markdown",
   "id": "7b4548cb",
   "metadata": {},
   "source": [
    "Who are the most popular authors?"
   ]
  },
  {
   "cell_type": "code",
   "execution_count": 85,
   "id": "458563b4",
   "metadata": {},
   "outputs": [
    {
     "data": {
      "text/html": [
       "<div>\n",
       "<style scoped>\n",
       "    .dataframe tbody tr th:only-of-type {\n",
       "        vertical-align: middle;\n",
       "    }\n",
       "\n",
       "    .dataframe tbody tr th {\n",
       "        vertical-align: top;\n",
       "    }\n",
       "\n",
       "    .dataframe thead th {\n",
       "        text-align: right;\n",
       "    }\n",
       "</style>\n",
       "<table border=\"1\" class=\"dataframe\">\n",
       "  <thead>\n",
       "    <tr style=\"text-align: right;\">\n",
       "      <th></th>\n",
       "      <th>Author</th>\n",
       "      <th>Ratings</th>\n",
       "    </tr>\n",
       "  </thead>\n",
       "  <tbody>\n",
       "    <tr>\n",
       "      <th>0</th>\n",
       "      <td>J.K. Rowling</td>\n",
       "      <td>31255912</td>\n",
       "    </tr>\n",
       "    <tr>\n",
       "      <th>1</th>\n",
       "      <td>Suzanne Collins</td>\n",
       "      <td>14852619</td>\n",
       "    </tr>\n",
       "    <tr>\n",
       "      <th>2</th>\n",
       "      <td>Stephenie Meyer</td>\n",
       "      <td>11657785</td>\n",
       "    </tr>\n",
       "    <tr>\n",
       "      <th>3</th>\n",
       "      <td>Colleen Hoover</td>\n",
       "      <td>9703509</td>\n",
       "    </tr>\n",
       "    <tr>\n",
       "      <th>4</th>\n",
       "      <td>John Green</td>\n",
       "      <td>9188384</td>\n",
       "    </tr>\n",
       "    <tr>\n",
       "      <th>5</th>\n",
       "      <td>Stephen King</td>\n",
       "      <td>9023149</td>\n",
       "    </tr>\n",
       "    <tr>\n",
       "      <th>6</th>\n",
       "      <td>J.R.R. Tolkien</td>\n",
       "      <td>8852149</td>\n",
       "    </tr>\n",
       "    <tr>\n",
       "      <th>7</th>\n",
       "      <td>Dan Brown</td>\n",
       "      <td>8097731</td>\n",
       "    </tr>\n",
       "    <tr>\n",
       "      <th>8</th>\n",
       "      <td>George Orwell</td>\n",
       "      <td>7937250</td>\n",
       "    </tr>\n",
       "    <tr>\n",
       "      <th>9</th>\n",
       "      <td>Jane Austen</td>\n",
       "      <td>7381097</td>\n",
       "    </tr>\n",
       "  </tbody>\n",
       "</table>\n",
       "</div>"
      ],
      "text/plain": [
       "            Author   Ratings\n",
       "0     J.K. Rowling  31255912\n",
       "1  Suzanne Collins  14852619\n",
       "2  Stephenie Meyer  11657785\n",
       "3   Colleen Hoover   9703509\n",
       "4       John Green   9188384\n",
       "5     Stephen King   9023149\n",
       "6   J.R.R. Tolkien   8852149\n",
       "7        Dan Brown   8097731\n",
       "8    George Orwell   7937250\n",
       "9      Jane Austen   7381097"
      ]
     },
     "execution_count": 85,
     "metadata": {},
     "output_type": "execute_result"
    }
   ],
   "source": [
    "goodreads_df.groupby('Author')['Ratings'].sum().sort_values(ascending=False)[:10].reset_index()"
   ]
  },
  {
   "cell_type": "code",
   "execution_count": 86,
   "id": "cb11a30b",
   "metadata": {},
   "outputs": [
    {
     "data": {
      "image/png": "[encoded data removed]",
      "text/plain": [
       "<Figure size 640x480 with 1 Axes>"
      ]
     },
     "metadata": {},
     "output_type": "display_data"
    }
   ],
   "source": [
    "author_df = goodreads_df.groupby('Author')['Ratings'].sum().sort_values(ascending=False)[:10].reset_index()\n",
    "sns.barplot(data=author_df, x='Ratings', y='Author', palette='hls')\n",
    "plt.xlabel(\"Total Ratings\")\n",
    "plt.title(\"Most popular authors\", fontsize=15)\n",
    "plt.show()"
   ]
  },
  {
   "cell_type": "markdown",
   "id": "ef12b86d",
   "metadata": {},
   "source": [
    "Which authors have written the most books from our dataset?"
   ]
  }
 ],
 "metadata": {
  "kernelspec": {
   "display_name": "Python 3 (ipykernel)",
   "language": "python",
   "name": "python3"
  },
  "language_info": {
   "codemirror_mode": {
    "name": "ipython",
    "version": 3
   },
   "file_extension": ".py",
   "mimetype": "text/x-python",
   "name": "python",
   "nbconvert_exporter": "python",
   "pygments_lexer": "ipython3",
   "version": "3.10.9"
  }
 },
 "nbformat": 4,
 "nbformat_minor": 5
}
